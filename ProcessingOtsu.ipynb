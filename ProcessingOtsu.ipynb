{
 "cells": [
  {
   "cell_type": "code",
   "execution_count": 1,
   "id": "0d0f84f4-6899-4f24-b5f5-3356563f01e2",
   "metadata": {},
   "outputs": [],
   "source": [
    "from PIL import Image\n",
    "from PIL import ImageOps\n",
    "from PIL import ImageEnhance\n",
    "import numpy as np\n",
    "import pandas as pd\n",
    "import sklearn\n",
    "from sklearn.model_selection import train_test_split\n",
    "from skimage.filters import threshold_otsu\n",
    "import matplotlib.pyplot as plt"
   ]
  },
  {
   "cell_type": "code",
   "execution_count": 2,
   "id": "45bf66b4-8a90-4633-aed8-c50bbb7f1975",
   "metadata": {},
   "outputs": [],
   "source": [
    "#Import CSV containing image metadata\n",
    "metadata = pd.read_csv('/Users/Rajiv/Desktop/Handwritten Letters/letters2.csv')\n",
    "#Path to image directory\n",
    "path = '/Users/Rajiv/Desktop/Handwritten Letters/letters2'\n",
    "\n",
    "#Empty numpy array to hold images\n",
    "images = np.empty((len(metadata.file.values), 1024))\n",
    "#Numpy array to hold image labels\n",
    "labels = np.asarray(metadata.letter.values)\n",
    "\n",
    "\n",
    "#Iterate over filenames in metadata\n",
    "i = 0\n",
    "for filename in metadata.file.values:\n",
    "    \n",
    "    #Open image, resize to 32x32, convert to grayscale, and maxmimize contrast\n",
    "    current = Image.open(path + '/' + filename)\n",
    "    current = ImageOps.grayscale(current)\n",
    "    current = ImageOps.autocontrast(current)\n",
    "    current = current.resize((32, 32))\n",
    "    \n",
    "    #Add image to numpy array\n",
    "    images[i] = np.reshape(np.asarray(current), (1024))\n",
    "    i = i + 1\n",
    "\n"
   ]
  },
  {
   "cell_type": "code",
   "execution_count": 3,
   "id": "ea6bb6c3",
   "metadata": {},
   "outputs": [
    {
     "data": {
      "text/plain": [
       "['а',\n",
       " 'б',\n",
       " 'в',\n",
       " 'г',\n",
       " 'д',\n",
       " 'е',\n",
       " 'ж',\n",
       " 'з',\n",
       " 'и',\n",
       " 'й',\n",
       " 'к',\n",
       " 'л',\n",
       " 'м',\n",
       " 'н',\n",
       " 'о',\n",
       " 'п',\n",
       " 'р',\n",
       " 'с',\n",
       " 'т',\n",
       " 'у',\n",
       " 'ф',\n",
       " 'х',\n",
       " 'ц',\n",
       " 'ч',\n",
       " 'ш',\n",
       " 'щ',\n",
       " 'ъ',\n",
       " 'ы',\n",
       " 'ь',\n",
       " 'э',\n",
       " 'ю',\n",
       " 'я',\n",
       " 'ё']"
      ]
     },
     "execution_count": 3,
     "metadata": {},
     "output_type": "execute_result"
    }
   ],
   "source": [
    "#Obtain letter labels for heatmap\n",
    "\n",
    "letters = sorted(list(set(metadata.letter)))\n",
    "letters"
   ]
  },
  {
   "cell_type": "code",
   "execution_count": 4,
   "id": "0814e437",
   "metadata": {},
   "outputs": [
    {
     "data": {
      "text/plain": [
       "162.861328125"
      ]
     },
     "execution_count": 4,
     "metadata": {},
     "output_type": "execute_result"
    }
   ],
   "source": [
    "#Determine otsu threshold\n",
    "\n",
    "threshold = threshold_otsu(images)\n",
    "threshold"
   ]
  },
  {
   "cell_type": "code",
   "execution_count": 5,
   "id": "27f081ed-a3f1-4b3c-a094-3877829f33c3",
   "metadata": {},
   "outputs": [],
   "source": [
    "#Split data into training and test set\n",
    "\n",
    "x_train, x_test, y_train, y_test = train_test_split(images, labels, test_size = 0.2)"
   ]
  },
  {
   "cell_type": "code",
   "execution_count": 6,
   "id": "b2afee12",
   "metadata": {},
   "outputs": [],
   "source": [
    "from sklearn.discriminant_analysis import LinearDiscriminantAnalysis\n",
    "from sklearn.metrics import accuracy_score\n",
    "from sklearn.metrics import confusion_matrix\n",
    "from sklearn.decomposition import PCA\n",
    "from sklearn.neural_network import MLPClassifier\n",
    "from matplotlib.pyplot import imshow\n",
    "from sklearn.metrics import balanced_accuracy_score\n",
    "from sklearn.neighbors import KNeighborsClassifier"
   ]
  },
  {
   "cell_type": "code",
   "execution_count": 7,
   "id": "b73827dd-1610-44e7-aa56-a3a02aac3001",
   "metadata": {},
   "outputs": [],
   "source": [
    "#Begin by reducing dimensionality of data using PCA\n",
    "pca = PCA(n_components = .65)\n",
    "pca.fit(x_train)\n",
    "\n",
    "transx = pca.transform(x_train)"
   ]
  },
  {
   "cell_type": "code",
   "execution_count": 8,
   "id": "487061a7",
   "metadata": {},
   "outputs": [
    {
     "name": "stdout",
     "output_type": "stream",
     "text": [
      "0.37362632064956286\n",
      "0.34199401325336304\n"
     ]
    },
    {
     "data": {
      "text/plain": [
       "Text(0, 0.5, 'Predicted Label')"
      ]
     },
     "execution_count": 8,
     "metadata": {},
     "output_type": "execute_result"
    },
    {
     "data": {
      "image/png": "[encoded data removed]",
      "text/plain": [
       "<Figure size 432x288 with 1 Axes>"
      ]
     },
     "metadata": {
      "needs_background": "light"
     },
     "output_type": "display_data"
    }
   ],
   "source": [
    "#Train and fit LDA classifier\n",
    "\n",
    "lda = LinearDiscriminantAnalysis()\n",
    "lda.fit(transx, y_train)\n",
    "y_pred = lda.predict(pca.transform(x_test))\n",
    "print(balanced_accuracy_score(lda.predict(pca.transform(x_train)), y_train))\n",
    "print(balanced_accuracy_score(y_test, y_pred))\n",
    "\n",
    "#Plot confusion Matrix\n",
    "cm = confusion_matrix(y_pred, y_test, labels = letters)\n",
    "\n",
    "\n",
    "transx2 = lda.transform(pca.transform(x_train))\n",
    "\n",
    "fig, ax = plt.subplots()\n",
    "ax.imshow(cm)\n",
    "ax.set_xticks(np.arange(33))\n",
    "ax.set_yticks(np.arange(33))\n",
    "ax.set_xticklabels(letters)\n",
    "ax.set_yticklabels(letters)\n",
    "ax.set_xlabel('True Label')\n",
    "ax.set_ylabel('Predicted Label')"
   ]
  },
  {
   "cell_type": "code",
   "execution_count": 9,
   "id": "24fb5a7c",
   "metadata": {},
   "outputs": [
    {
     "data": {
      "text/plain": [
       "0.030303030303030304"
      ]
     },
     "execution_count": 9,
     "metadata": {},
     "output_type": "execute_result"
    }
   ],
   "source": [
    "#MLP Classifier\n",
    "\n",
    "ml = MLPClassifier(max_iter = 4000, hidden_layer_sizes = (715, 500, 500, 250, 250))\n",
    "ml.fit(x_train, y_train)\n",
    "y_pred = ml.predict(x_test)\n",
    "balanced_accuracy_score(y_test, y_pred)\n",
    "\n",
    "\n",
    "\n",
    "y_pred_train = ml.predict(x_train)\n",
    "balanced_accuracy_score(y_train, y_pred_train)"
   ]
  },
  {
   "cell_type": "code",
   "execution_count": 10,
   "id": "d70fc938",
   "metadata": {},
   "outputs": [
    {
     "name": "stderr",
     "output_type": "stream",
     "text": [
      "/Users/Rajiv/opt/anaconda3/lib/python3.9/site-packages/sklearn/metrics/_classification.py:1854: UserWarning: y_pred contains classes not in y_true\n",
      "  warnings.warn('y_pred contains classes not in y_true')\n"
     ]
    },
    {
     "data": {
      "text/plain": [
       "0.02356902356902357"
      ]
     },
     "execution_count": 10,
     "metadata": {},
     "output_type": "execute_result"
    }
   ],
   "source": [
    "y_pred = ml.predict(x_test)\n",
    "balanced_accuracy_score(y_pred, y_test)"
   ]
  },
  {
   "cell_type": "code",
   "execution_count": 11,
   "id": "585ea8a7",
   "metadata": {},
   "outputs": [
    {
     "data": {
      "text/plain": [
       "Text(0, 0.5, 'Predicted Label')"
      ]
     },
     "execution_count": 11,
     "metadata": {},
     "output_type": "execute_result"
    },
    {
     "data": {
      "image/png": "[encoded data removed]",
      "text/plain": [
       "<Figure size 432x288 with 1 Axes>"
      ]
     },
     "metadata": {
      "needs_background": "light"
     },
     "output_type": "display_data"
    }
   ],
   "source": [
    "cm = confusion_matrix(y_pred, y_test, labels = letters)\n",
    "\n",
    "fig, ax = plt.subplots()\n",
    "ax.imshow(cm)\n",
    "ax.set_xticks(np.arange(33))\n",
    "ax.set_yticks(np.arange(33))\n",
    "ax.set_xticklabels(letters)\n",
    "ax.set_yticklabels(letters)\n",
    "ax.set_xlabel('True Label')\n",
    "ax.set_ylabel('Predicted Label')"
   ]
  },
  {
   "cell_type": "code",
   "execution_count": null,
   "id": "f6616ce8",
   "metadata": {},
   "outputs": [],
   "source": []
  },
  {
   "cell_type": "code",
   "execution_count": 12,
   "id": "4c0772e2",
   "metadata": {},
   "outputs": [
    {
     "name": "stdout",
     "output_type": "stream",
     "text": [
      "0.7421746945041364\n",
      "0.49625086110049876\n"
     ]
    }
   ],
   "source": [
    "#KNN Classifier\n",
    "\n",
    "knn = KNeighborsClassifier(n_neighbors = 5)\n",
    "knn.fit(x_train, y_train)\n",
    "y_pred = knn.predict(x_test)\n",
    "\n",
    "print(balanced_accuracy_score(knn.predict(x_train), y_train))\n",
    "\n",
    "print(balanced_accuracy_score(y_test, y_pred))"
   ]
  },
  {
   "cell_type": "code",
   "execution_count": 13,
   "id": "0371cdb6",
   "metadata": {},
   "outputs": [
    {
     "data": {
      "text/plain": [
       "Text(0, 0.5, 'Predicted Label')"
      ]
     },
     "execution_count": 13,
     "metadata": {},
     "output_type": "execute_result"
    },
    {
     "data": {
      "image/png": "[encoded data removed]",
      "text/plain": [
       "<Figure size 432x288 with 1 Axes>"
      ]
     },
     "metadata": {
      "needs_background": "light"
     },
     "output_type": "display_data"
    }
   ],
   "source": [
    "cm = confusion_matrix(y_test, y_pred, labels = letters)\n",
    "\n",
    "fig, ax = plt.subplots()\n",
    "ax.imshow(cm)\n",
    "ax.set_xticks(np.arange(33))\n",
    "ax.set_yticks(np.arange(33))\n",
    "ax.set_xticklabels(letters)\n",
    "ax.set_yticklabels(letters)\n",
    "ax.set_xlabel('True Label')\n",
    "ax.set_ylabel('Predicted Label')"
   ]
  },
  {
   "cell_type": "code",
   "execution_count": 14,
   "id": "e54092c2",
   "metadata": {},
   "outputs": [],
   "source": [
    "from sklearn.naive_bayes import GaussianNB"
   ]
  },
  {
   "cell_type": "code",
   "execution_count": 15,
   "id": "4ccf57ab",
   "metadata": {},
   "outputs": [
    {
     "name": "stdout",
     "output_type": "stream",
     "text": [
      "0.4216408175727379\n",
      "0.36854090265986483\n"
     ]
    }
   ],
   "source": [
    "#GNB Classifier\n",
    "\n",
    "gnb = GaussianNB()\n",
    "gnb.fit(lda.transform(pca.transform(x_train)), y_train)\n",
    "y_pred = gnb.predict(lda.transform(pca.transform(x_test)))\n",
    "\n",
    "print(balanced_accuracy_score(gnb.predict(lda.transform(pca.transform(x_train))), y_train))\n",
    "print(balanced_accuracy_score(y_test, y_pred))\n",
    "\n"
   ]
  },
  {
   "cell_type": "code",
   "execution_count": 16,
   "id": "c3ab465d",
   "metadata": {},
   "outputs": [
    {
     "data": {
      "text/plain": [
       "Text(0, 0.5, 'Predicted Label')"
      ]
     },
     "execution_count": 16,
     "metadata": {},
     "output_type": "execute_result"
    },
    {
     "data": {
      "image/png": "[encoded data removed]",
      "text/plain": [
       "<Figure size 432x288 with 1 Axes>"
      ]
     },
     "metadata": {
      "needs_background": "light"
     },
     "output_type": "display_data"
    }
   ],
   "source": [
    "\n",
    "\n",
    "cm = confusion_matrix(y_pred, y_test, labels = letters)\n",
    "\n",
    "fig, ax = plt.subplots()\n",
    "ax.imshow(cm)\n",
    "ax.set_xticks(np.arange(33))\n",
    "ax.set_yticks(np.arange(33))\n",
    "ax.set_xticklabels(letters)\n",
    "ax.set_yticklabels(letters)\n",
    "ax.set_xlabel('True Label')\n",
    "ax.set_ylabel('Predicted Label')"
   ]
  },
  {
   "cell_type": "code",
   "execution_count": null,
   "id": "6f4e3303",
   "metadata": {},
   "outputs": [],
   "source": []
  },
  {
   "cell_type": "code",
   "execution_count": null,
   "id": "4d4c25de",
   "metadata": {},
   "outputs": [],
   "source": []
  },
  {
   "cell_type": "code",
   "execution_count": null,
   "id": "2caaf4a6",
   "metadata": {},
   "outputs": [],
   "source": []
  },
  {
   "cell_type": "code",
   "execution_count": null,
   "id": "21cbff7a",
   "metadata": {},
   "outputs": [],
   "source": []
  },
  {
   "cell_type": "code",
   "execution_count": null,
   "id": "28ce4398",
   "metadata": {},
   "outputs": [],
   "source": []
  },
  {
   "cell_type": "code",
   "execution_count": null,
   "id": "101429fe",
   "metadata": {},
   "outputs": [],
   "source": []
  },
  {
   "cell_type": "code",
   "execution_count": null,
   "id": "3aa68288",
   "metadata": {},
   "outputs": [],
   "source": []
  },
  {
   "cell_type": "code",
   "execution_count": null,
   "id": "84be4c69",
   "metadata": {},
   "outputs": [],
   "source": []
  },
  {
   "cell_type": "code",
   "execution_count": null,
   "id": "9ea19009",
   "metadata": {},
   "outputs": [],
   "source": []
  },
  {
   "cell_type": "code",
   "execution_count": null,
   "id": "2fb97689",
   "metadata": {},
   "outputs": [],
   "source": []
  }
 ],
 "metadata": {
  "kernelspec": {
   "display_name": "Python 3 (ipykernel)",
   "language": "python",
   "name": "python3"
  },
  "language_info": {
   "codemirror_mode": {
    "name": "ipython",
    "version": 3
   },
   "file_extension": ".py",
   "mimetype": "text/x-python",
   "name": "python",
   "nbconvert_exporter": "python",
   "pygments_lexer": "ipython3",
   "version": "3.9.7"
  }
 },
 "nbformat": 4,
 "nbformat_minor": 5
}
